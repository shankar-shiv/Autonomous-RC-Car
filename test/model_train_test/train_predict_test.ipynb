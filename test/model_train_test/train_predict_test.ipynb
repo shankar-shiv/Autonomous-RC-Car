{
 "cells": [
  {
   "cell_type": "code",
   "execution_count": 1,
   "metadata": {},
   "outputs": [],
   "source": [
    "import cv2\n",
    "import numpy as np\n",
    "import glob\n",
    "import sys\n",
    "import matplotlib.pyplot as plt\n",
    "%matplotlib inline"
   ]
  },
  {
   "cell_type": "code",
   "execution_count": 2,
   "metadata": {
    "scrolled": true
   },
   "outputs": [
    {
     "name": "stdout",
     "output_type": "stream",
     "text": [
      "OpenCV: 4.6.0\n",
      "Numpy :  1.23.1\n",
      "Python: 3.9.13 (tags/v3.9.13:6de2ca5, May 17 2022, 16:36:42) [MSC v.1929 64 bit (AMD64)]\n"
     ]
    }
   ],
   "source": [
    "print (\"OpenCV:\",  cv2.__version__)\n",
    "print (\"Numpy : \", np.__version__)\n",
    "print (\"Python:\",  sys.version)"
   ]
  },
  {
   "cell_type": "code",
   "execution_count": 3,
   "metadata": {},
   "outputs": [
    {
     "name": "stdout",
     "output_type": "stream",
     "text": [
      "[[  1.   1.   0. ... 147. 148. 146.]\n",
      " [  1.   1.   0. ... 147. 148. 146.]\n",
      " [ 99. 102. 103. ... 156. 156. 155.]\n",
      " ...\n",
      " [  0.   0.   0. ... 144. 143. 145.]\n",
      " [  0.   0.   0. ... 144. 143. 145.]\n",
      " [101. 101. 100. ... 146. 144. 138.]]\n",
      "\n",
      "[[0. 0. 1. 0.]\n",
      " [0. 1. 0. 0.]\n",
      " [0. 0. 1. 0.]\n",
      " [0. 1. 0. 0.]\n",
      " [0. 0. 1. 0.]\n",
      " [0. 1. 0. 0.]\n",
      " [0. 0. 1. 0.]\n",
      " [0. 1. 0. 0.]\n",
      " [0. 0. 1. 0.]\n",
      " [0. 1. 0. 0.]\n",
      " [0. 0. 1. 0.]\n",
      " [0. 0. 1. 0.]\n",
      " [0. 1. 0. 0.]\n",
      " [0. 0. 1. 0.]\n",
      " [0. 0. 1. 0.]\n",
      " [0. 1. 0. 0.]]\n",
      "Image array shape:  (39, 76800)\n",
      "Label array shape:  (16, 4)\n"
     ]
    }
   ],
   "source": [
    "# load training data\n",
    "dim = 240*320  # 76800\n",
    "# dim = 240 * 320\n",
    "X = np.empty((0, dim))\n",
    "y = np.empty((0, 4))  # representing the 4 outputs\n",
    "training_data = glob.glob('trained_last_night.npz')  # trained data\n",
    "\n",
    "for single_npz in training_data:\n",
    "    with np.load(single_npz) as data:\n",
    "        train = data['train']\n",
    "        train_labels = data['train_labels']\n",
    "    X = np.vstack((X, train))\n",
    "    y = np.vstack((y, train_labels))\n",
    "\n",
    "print(X)\n",
    "print()\n",
    "print(y)\n",
    "print('Image array shape: ', X.shape)\n",
    "print('Label array shape: ', y.shape)\n"
   ]
  },
  {
   "cell_type": "code",
   "execution_count": 4,
   "metadata": {},
   "outputs": [
    {
     "name": "stdout",
     "output_type": "stream",
     "text": [
      "[[  1.   1.   0. ... 147. 148. 146.]\n",
      " [  1.   1.   0. ... 147. 148. 146.]\n",
      " [ 99. 102. 103. ... 156. 156. 155.]\n",
      " ...\n",
      " [  4.   5.   5. ... 141. 141. 141.]\n",
      " [  4.   5.   5. ... 141. 141. 141.]\n",
      " [ 63.  65.  60. ... 159. 157. 157.]]\n",
      "\n",
      "[[0. 0. 1. 0.]\n",
      " [0. 1. 0. 0.]\n",
      " [0. 0. 1. 0.]\n",
      " [0. 1. 0. 0.]\n",
      " [0. 0. 1. 0.]\n",
      " [0. 1. 0. 0.]\n",
      " [0. 0. 1. 0.]\n",
      " [0. 1. 0. 0.]\n",
      " [0. 0. 1. 0.]\n",
      " [0. 1. 0. 0.]\n",
      " [0. 0. 1. 0.]\n",
      " [0. 0. 1. 0.]\n",
      " [0. 1. 0. 0.]\n",
      " [0. 0. 1. 0.]\n",
      " [0. 0. 1. 0.]\n",
      " [0. 1. 0. 0.]]\n",
      "Image array shape:  (16, 76800)\n",
      "Label array shape:  (16, 4)\n"
     ]
    }
   ],
   "source": [
    "# load training data\n",
    "dim = 240*320  # 76800\n",
    "# dim = 240 * 320\n",
    "X = np.empty((0, dim))\n",
    "y = np.empty((0, 4)) # representing the 4 outputs\n",
    "training_data = glob.glob('trained_last_night.npz') # trained data\n",
    "\n",
    "for single_npz in training_data:\n",
    "    with np.load(single_npz) as data:\n",
    "        train = data['train']\n",
    "        train_labels = data['train_labels']\n",
    "    X = np.vstack((X, train[0:16]))\n",
    "    y = np.vstack((y, train_labels))\n",
    "\n",
    "print(X)\n",
    "print()\n",
    "print(y)\n",
    "print ('Image array shape: ', X.shape)\n",
    "print ('Label array shape: ', y.shape)"
   ]
  },
  {
   "cell_type": "code",
   "execution_count": 5,
   "metadata": {
    "scrolled": true
   },
   "outputs": [
    {
     "data": {
      "text/plain": [
       "<matplotlib.image.AxesImage at 0x1a3dae8c5e0>"
      ]
     },
     "execution_count": 5,
     "metadata": {},
     "output_type": "execute_result"
    },
    {
     "data": {
      "image/png": "[encoded data removed]",
      "text/plain": [
       "<Figure size 432x288 with 1 Axes>"
      ]
     },
     "metadata": {
      "needs_background": "light"
     },
     "output_type": "display_data"
    }
   ],
   "source": [
    "plt.imshow(X[2].reshape(240, 320), cmap='gray') # 240 is the height, 320 is the width"
   ]
  },
  {
   "cell_type": "code",
   "execution_count": 6,
   "metadata": {},
   "outputs": [],
   "source": [
    "# create a neural network\n",
    "model = cv2.ml.ANN_MLP_create()\n",
    "layer_sizes = np.int32([dim, 32, 4]) # hidden layer = 32 neurons\n",
    "\n",
    "# setLayerSizes()\n",
    "# Integer vector specifying the number of neurons in each layer including the input and output layers. \n",
    "# The very first element specifies the number of elements in the input layer. \n",
    "# The last element - number of elements in the output layer. Default value is empty Mat.\n",
    "model.setLayerSizes(layer_sizes)\n",
    "model.setTrainMethod(cv2.ml.ANN_MLP_BACKPROP) # Back propagation / Faster Rprop\n",
    "model.setActivationFunction(cv2.ml.ANN_MLP_SIGMOID_SYM, 2, 1) # alpha = 2, beta = 1 image below\n",
    "model.setTermCriteria((cv2.TERM_CRITERIA_COUNT, 20, 0.01))"
   ]
  },
  {
   "cell_type": "code",
   "execution_count": 7,
   "metadata": {},
   "outputs": [
    {
     "data": {
      "text/plain": [
       "True"
      ]
     },
     "execution_count": 7,
     "metadata": {},
     "output_type": "execute_result"
    }
   ],
   "source": [
    "# training\n",
    "model.train(np.float32(X), cv2.ml.ROW_SAMPLE, np.float32(y))\n",
    "\n",
    "# The number of samples for both X and y should be same"
   ]
  },
  {
   "cell_type": "code",
   "execution_count": 8,
   "metadata": {},
   "outputs": [
    {
     "name": "stdout",
     "output_type": "stream",
     "text": [
      "16\n",
      "[1 1 1 2 2 1 1 1 2 2 1 1 1 1 1 2]\n",
      "Train accuracy:  37.50%\n"
     ]
    }
   ],
   "source": [
    "# evaluate on training data\n",
    "ret, resp = model.predict(X)\n",
    "# Returns the indices of the maximum values along an axis.\n",
    "prediction = resp.argmax(-1)\n",
    "true_labels = y.argmax(-1)\n",
    "\n",
    "train_rate = np.mean(prediction == true_labels)\n",
    "print (len(prediction))\n",
    "print (prediction)\n",
    "print ('Train accuracy: ', \"{0:.2f}%\".format(train_rate * 100))"
   ]
  },
  {
   "cell_type": "code",
   "execution_count": 9,
   "metadata": {},
   "outputs": [],
   "source": [
    "# save model\n",
    "model.save('model_test.xml')"
   ]
  },
  {
   "cell_type": "code",
   "execution_count": 10,
   "metadata": {},
   "outputs": [],
   "source": [
    "# load model\n",
    "model = cv2.ml.ANN_MLP_load('model_test.xml')"
   ]
  },
  {
   "cell_type": "code",
   "execution_count": 11,
   "metadata": {},
   "outputs": [
    {
     "name": "stdout",
     "output_type": "stream",
     "text": [
      "[[-0.55844168  1.02631579 -0.02631579 -0.99998969]\n",
      " [-0.55844168  1.02631579 -0.02631579 -0.99998969]\n",
      " [-0.55844168  1.02631579 -0.02631579 -0.99998969]\n",
      " [ 0.73435124 -0.02631579  1.02631579  0.99999823]\n",
      " [ 0.73435124 -0.02631579  1.02631579  0.99999823]\n",
      " [-0.55844168  1.02631579 -0.02631579 -0.99998969]\n",
      " [-0.55844168  1.02631579 -0.02631579 -0.99998969]\n",
      " [-0.55844168  1.02631579 -0.02631579 -0.99998969]\n",
      " [ 0.73435124 -0.02631579  1.02631579  0.99999823]\n",
      " [ 0.73435124 -0.02631579  1.02631579  0.99999823]\n",
      " [-0.55844168  1.02631579 -0.02631579 -0.99998969]\n",
      " [-0.55844168  1.02631579 -0.02631579 -0.99998969]\n",
      " [-0.55844168  1.02631579 -0.02631579 -0.99998969]\n",
      " [-0.55844168  1.02631579 -0.02631579 -0.99998969]\n",
      " [-0.55844168  1.02631579 -0.02631579 -0.99998969]\n",
      " [ 0.73435124 -0.02631579  1.02631579  0.99999823]]\n",
      "16\n",
      "---\n"
     ]
    },
    {
     "data": {
      "text/plain": [
       "array([1, 1, 1, 2, 2, 1, 1, 1, 2, 2, 1, 1, 1, 1, 1, 2], dtype=int64)"
      ]
     },
     "execution_count": 11,
     "metadata": {},
     "output_type": "execute_result"
    }
   ],
   "source": [
    "# predict\n",
    "ret, resp = model.predict(X)\n",
    "print(resp)\n",
    "print(len(resp))\n",
    "print('---')\n",
    "resp.argmax(-1)"
   ]
  },
  {
   "cell_type": "code",
   "execution_count": null,
   "metadata": {},
   "outputs": [],
   "source": []
  },
  {
   "cell_type": "code",
   "execution_count": null,
   "metadata": {},
   "outputs": [],
   "source": []
  }
 ],
 "metadata": {
  "kernelspec": {
   "display_name": "Python 3 (ipykernel)",
   "language": "python",
   "name": "python3"
  },
  "language_info": {
   "codemirror_mode": {
    "name": "ipython",
    "version": 3
   },
   "file_extension": ".py",
   "mimetype": "text/x-python",
   "name": "python",
   "nbconvert_exporter": "python",
   "pygments_lexer": "ipython3",
   "version": "3.9.13"
  },
  "vscode": {
   "interpreter": {
    "hash": "5926885901cbf6afd2ca8f309e14dd121c3235281dc542f68de1e12d67778034"
   }
  }
 },
 "nbformat": 4,
 "nbformat_minor": 1
}
