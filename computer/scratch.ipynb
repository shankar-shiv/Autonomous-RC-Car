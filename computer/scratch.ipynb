{
 "cells": [
  {
   "cell_type": "code",
   "execution_count": 2,
   "metadata": {},
   "outputs": [],
   "source": [
    "import numpy as np"
   ]
  },
  {
   "cell_type": "code",
   "execution_count": 8,
   "metadata": {},
   "outputs": [
    {
     "data": {
      "text/plain": [
       "array([[[0, 0, 0, 0, 0, 0],\n",
       "        [1, 1, 1, 1, 1, 1],\n",
       "        [2, 2, 2, 2, 2, 2],\n",
       "        [3, 3, 3, 3, 3, 3],\n",
       "        [4, 4, 4, 4, 4, 4],\n",
       "        [5, 5, 5, 5, 5, 5],\n",
       "        [6, 6, 6, 6, 6, 6],\n",
       "        [7, 7, 7, 7, 7, 7],\n",
       "        [8, 8, 8, 8, 8, 8]],\n",
       "\n",
       "       [[0, 1, 2, 3, 4, 5],\n",
       "        [0, 1, 2, 3, 4, 5],\n",
       "        [0, 1, 2, 3, 4, 5],\n",
       "        [0, 1, 2, 3, 4, 5],\n",
       "        [0, 1, 2, 3, 4, 5],\n",
       "        [0, 1, 2, 3, 4, 5],\n",
       "        [0, 1, 2, 3, 4, 5],\n",
       "        [0, 1, 2, 3, 4, 5],\n",
       "        [0, 1, 2, 3, 4, 5]]])"
      ]
     },
     "execution_count": 8,
     "metadata": {},
     "output_type": "execute_result"
    }
   ],
   "source": [
    "np.mgrid[0:9, 0:6]\n"
   ]
  },
  {
   "cell_type": "code",
   "execution_count": 9,
   "metadata": {},
   "outputs": [
    {
     "data": {
      "text/plain": [
       "array([[[0, 0],\n",
       "        [1, 0],\n",
       "        [2, 0],\n",
       "        [3, 0],\n",
       "        [4, 0],\n",
       "        [5, 0],\n",
       "        [6, 0],\n",
       "        [7, 0],\n",
       "        [8, 0]],\n",
       "\n",
       "       [[0, 1],\n",
       "        [1, 1],\n",
       "        [2, 1],\n",
       "        [3, 1],\n",
       "        [4, 1],\n",
       "        [5, 1],\n",
       "        [6, 1],\n",
       "        [7, 1],\n",
       "        [8, 1]],\n",
       "\n",
       "       [[0, 2],\n",
       "        [1, 2],\n",
       "        [2, 2],\n",
       "        [3, 2],\n",
       "        [4, 2],\n",
       "        [5, 2],\n",
       "        [6, 2],\n",
       "        [7, 2],\n",
       "        [8, 2]],\n",
       "\n",
       "       [[0, 3],\n",
       "        [1, 3],\n",
       "        [2, 3],\n",
       "        [3, 3],\n",
       "        [4, 3],\n",
       "        [5, 3],\n",
       "        [6, 3],\n",
       "        [7, 3],\n",
       "        [8, 3]],\n",
       "\n",
       "       [[0, 4],\n",
       "        [1, 4],\n",
       "        [2, 4],\n",
       "        [3, 4],\n",
       "        [4, 4],\n",
       "        [5, 4],\n",
       "        [6, 4],\n",
       "        [7, 4],\n",
       "        [8, 4]],\n",
       "\n",
       "       [[0, 5],\n",
       "        [1, 5],\n",
       "        [2, 5],\n",
       "        [3, 5],\n",
       "        [4, 5],\n",
       "        [5, 5],\n",
       "        [6, 5],\n",
       "        [7, 5],\n",
       "        [8, 5]]])"
      ]
     },
     "execution_count": 9,
     "metadata": {},
     "output_type": "execute_result"
    }
   ],
   "source": [
    "np.mgrid[0:9, 0:6].T\n",
    "\n"
   ]
  },
  {
   "cell_type": "code",
   "execution_count": 10,
   "metadata": {},
   "outputs": [
    {
     "data": {
      "text/plain": [
       "array([[0, 0],\n",
       "       [1, 0],\n",
       "       [2, 0],\n",
       "       [3, 0],\n",
       "       [4, 0],\n",
       "       [5, 0],\n",
       "       [6, 0],\n",
       "       [7, 0],\n",
       "       [8, 0],\n",
       "       [0, 1],\n",
       "       [1, 1],\n",
       "       [2, 1],\n",
       "       [3, 1],\n",
       "       [4, 1],\n",
       "       [5, 1],\n",
       "       [6, 1],\n",
       "       [7, 1],\n",
       "       [8, 1],\n",
       "       [0, 2],\n",
       "       [1, 2],\n",
       "       [2, 2],\n",
       "       [3, 2],\n",
       "       [4, 2],\n",
       "       [5, 2],\n",
       "       [6, 2],\n",
       "       [7, 2],\n",
       "       [8, 2],\n",
       "       [0, 3],\n",
       "       [1, 3],\n",
       "       [2, 3],\n",
       "       [3, 3],\n",
       "       [4, 3],\n",
       "       [5, 3],\n",
       "       [6, 3],\n",
       "       [7, 3],\n",
       "       [8, 3],\n",
       "       [0, 4],\n",
       "       [1, 4],\n",
       "       [2, 4],\n",
       "       [3, 4],\n",
       "       [4, 4],\n",
       "       [5, 4],\n",
       "       [6, 4],\n",
       "       [7, 4],\n",
       "       [8, 4],\n",
       "       [0, 5],\n",
       "       [1, 5],\n",
       "       [2, 5],\n",
       "       [3, 5],\n",
       "       [4, 5],\n",
       "       [5, 5],\n",
       "       [6, 5],\n",
       "       [7, 5],\n",
       "       [8, 5]])"
      ]
     },
     "execution_count": 10,
     "metadata": {},
     "output_type": "execute_result"
    }
   ],
   "source": [
    "np.mgrid[0:9, 0:6].T.reshape(-1, 2)\n"
   ]
  },
  {
   "cell_type": "code",
   "execution_count": 14,
   "metadata": {},
   "outputs": [
    {
     "data": {
      "text/plain": [
       "array([[0, 1, 2, 3, 4, 5]])"
      ]
     },
     "execution_count": 14,
     "metadata": {},
     "output_type": "execute_result"
    }
   ],
   "source": [
    "a = np.arange(6).reshape((1, 6))\n",
    "a"
   ]
  },
  {
   "cell_type": "code",
   "execution_count": 15,
   "metadata": {},
   "outputs": [
    {
     "data": {
      "text/plain": [
       "array([[0, 1],\n",
       "       [2, 3],\n",
       "       [4, 5]])"
      ]
     },
     "execution_count": 15,
     "metadata": {},
     "output_type": "execute_result"
    }
   ],
   "source": [
    "np.reshape(a, (-1,2)) "
   ]
  },
  {
   "cell_type": "markdown",
   "metadata": {},
   "source": [
    "This distortion can be corrected by the following system of equations:\n",
    "\n",
    "$$x_{distorted} = x( 1 + k_1 r^2 + k_2 r^4 + k_3 r^6)$$\n",
    "\n",
    "$$y_{distorted} = y( 1 + k_1 r^2 + k_2 r^4 + k_3 r^6)$$\n",
    "\n",
    "Similarly, another type of distortion is tangential distortion that occurs because the image capture lens is not aligned perfectly parallel to the imaging plane. As a result, some areas in the image may appear closer than expected. It is expressed as follows:\n",
    "\n",
    "$$x_{distorted} = x + [ 2p_1xy + p_2(r^2+2x^2)]$$\n",
    "\n",
    "$$y_{distorted} = y + [ p_1(r^2+ 2y^2)+ 2p_2xy]$$\n",
    "\n",
    "In short, we need to find five parameters, called distortion coefficients, given by:\n",
    "\n",
    "$$Distortion \\; coefficients=(k_1 \\hspace{10pt} k_2 \\hspace{10pt} p_1 \\hspace{10pt} p_2 \\hspace{10pt} k_3)$$\n",
    "\n",
    "In addition to this, we need to find more information, such as the internal and external parameters of the camera. Internal parameters are specific to the camera. It includes information such as focal length ($f_x, f_y$), optical center ($c_x, c_y$). It is also called the camera matrix and depends only on the camera, so it can be calculated only once and then stored for future use. It is represented as a 3x3 matrix:\n",
    "\n",
    "$$camera \\; matrix = \\left [ \\begin{matrix} f_x & 0 & c_x \\ 0 & f_y & c_y \\ 0 & 0 & 1 \\end{matrix} \\right ]$$\n",
    "\n",
    "The extrinsic parameters correspond to the rotation vector and translation vector, which can transform the coordinates of the 3D point into the coordinate system.\n",
    "\n",
    "In 3D related applications, these distortions must first be corrected. In order to find these parameters, we have to provide some sample images that contain obvious pattern patterns (say a checkerboard). We can find some special points on it (such as the four corners of the chessboard). We figured out where these particular points are in the picture and where they really are. Armed with this information, we can solve for the distortion coefficients mathematically. This is the summary of the whole story. For better results, we need at least 10 such pattern patterns."
   ]
  },
  {
   "cell_type": "markdown",
   "metadata": {},
   "source": []
  }
 ],
 "metadata": {
  "kernelspec": {
   "display_name": "Python 3.9.13 64-bit",
   "language": "python",
   "name": "python3"
  },
  "language_info": {
   "codemirror_mode": {
    "name": "ipython",
    "version": 3
   },
   "file_extension": ".py",
   "mimetype": "text/x-python",
   "name": "python",
   "nbconvert_exporter": "python",
   "pygments_lexer": "ipython3",
   "version": "3.9.13"
  },
  "orig_nbformat": 4,
  "vscode": {
   "interpreter": {
    "hash": "5926885901cbf6afd2ca8f309e14dd121c3235281dc542f68de1e12d67778034"
   }
  }
 },
 "nbformat": 4,
 "nbformat_minor": 2
}
