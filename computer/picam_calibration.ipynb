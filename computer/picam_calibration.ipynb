{
 "cells": [
  {
   "cell_type": "code",
   "execution_count": 1,
   "metadata": {},
   "outputs": [],
   "source": [
    "\n",
    "\"\"\"\n",
    "Reference:\n",
    "OpenCV-Python Tutorials - Camera Calibration and 3D Reconstruction\n",
    "http://opencv-python-tutroals.readthedocs.org/en/latest/py_tutorials/py_calib3d/py_calibration/py_calibration.html\n",
    "\"\"\"\n",
    "\n",
    "import cv2\n",
    "import numpy as np\n",
    "import glob\n",
    "import os"
   ]
  },
  {
   "cell_type": "code",
   "execution_count": 2,
   "metadata": {},
   "outputs": [],
   "source": [
    "# termination criteria\n",
    "# Typically we use the TermCriteria() function to generate the structure we need.\n",
    "# The first argument of this function is either CV_TERMCRIT_ITER or CV_TERMCRIT_EPS,\n",
    "# which tells the algorithm that we want to terminate either after some number of iterations\n",
    "# or when the convergence metric reaches some small value (respectively).\n",
    "# The next two arguments set the values at which one, the other, or both of these criteria should terminate the algorithm.\n",
    "criteria = (cv2.TERM_CRITERIA_EPS + cv2.TERM_CRITERIA_MAX_ITER, 30, 0.001)\n"
   ]
  },
  {
   "cell_type": "code",
   "execution_count": 14,
   "metadata": {},
   "outputs": [
    {
     "data": {
      "text/plain": [
       "array([[0., 0., 0.],\n",
       "       [1., 0., 0.],\n",
       "       [2., 0., 0.],\n",
       "       [3., 0., 0.],\n",
       "       [4., 0., 0.],\n",
       "       [5., 0., 0.],\n",
       "       [6., 0., 0.],\n",
       "       [7., 0., 0.],\n",
       "       [8., 0., 0.],\n",
       "       [0., 1., 0.],\n",
       "       [1., 1., 0.],\n",
       "       [2., 1., 0.],\n",
       "       [3., 1., 0.],\n",
       "       [4., 1., 0.],\n",
       "       [5., 1., 0.],\n",
       "       [6., 1., 0.],\n",
       "       [7., 1., 0.],\n",
       "       [8., 1., 0.],\n",
       "       [0., 2., 0.],\n",
       "       [1., 2., 0.],\n",
       "       [2., 2., 0.],\n",
       "       [3., 2., 0.],\n",
       "       [4., 2., 0.],\n",
       "       [5., 2., 0.],\n",
       "       [6., 2., 0.],\n",
       "       [7., 2., 0.],\n",
       "       [8., 2., 0.],\n",
       "       [0., 3., 0.],\n",
       "       [1., 3., 0.],\n",
       "       [2., 3., 0.],\n",
       "       [3., 3., 0.],\n",
       "       [4., 3., 0.],\n",
       "       [5., 3., 0.],\n",
       "       [6., 3., 0.],\n",
       "       [7., 3., 0.],\n",
       "       [8., 3., 0.],\n",
       "       [0., 4., 0.],\n",
       "       [1., 4., 0.],\n",
       "       [2., 4., 0.],\n",
       "       [3., 4., 0.],\n",
       "       [4., 4., 0.],\n",
       "       [5., 4., 0.],\n",
       "       [6., 4., 0.],\n",
       "       [7., 4., 0.],\n",
       "       [8., 4., 0.],\n",
       "       [0., 5., 0.],\n",
       "       [1., 5., 0.],\n",
       "       [2., 5., 0.],\n",
       "       [3., 5., 0.],\n",
       "       [4., 5., 0.],\n",
       "       [5., 5., 0.],\n",
       "       [6., 5., 0.],\n",
       "       [7., 5., 0.],\n",
       "       [8., 5., 0.]], dtype=float32)"
      ]
     },
     "execution_count": 14,
     "metadata": {},
     "output_type": "execute_result"
    }
   ],
   "source": [
    "object_point = np.zeros((6*9, 3), np.float32)\n",
    "object_point[:, :2] = np.mgrid[0:9, 0:6].T.reshape(-1, 2)\n",
    "object_point"
   ]
  },
  {
   "cell_type": "code",
   "execution_count": 3,
   "metadata": {},
   "outputs": [],
   "source": [
    "\n",
    "# 6x9=54 chess board, prepare object points, like (0,0,0), (1,0,0), (2,0,0) ....,(6,5,0)\n",
    "object_point = np.zeros((6*9, 3), np.float32)\n",
    "object_point[:, :2] = np.mgrid[0:9, 0:6].T.reshape(-1, 2)\n",
    "\n",
    "# 3d point in real world space\n",
    "object_points = []\n",
    "# 2d points in image plane\n",
    "image_points = []\n",
    "h, w = 0, 0\n",
    "\n",
    "images = [os.path.normpath(i) for i in glob.glob(\n",
    "    \"C:\\\\Users\\\\shankar\\\\Desktop\\\\Autonomous-RC-Car\\\\computer\\\\chess_board\\\\*.jpg\")]\n"
   ]
  },
  {
   "cell_type": "code",
   "execution_count": 4,
   "metadata": {},
   "outputs": [],
   "source": [
    "for file_name in images:\n",
    "    image = cv2.imread(file_name)\n",
    "    gray = cv2.cvtColor(image, cv2.COLOR_BGR2GRAY)\n",
    "    h, w = gray.shape[:2]\n",
    "\n",
    "    # find chess board corners\n",
    "    ret, corners = cv2.findChessboardCorners(gray, (9, 6), None)\n",
    "\n",
    "    # add object points, image points\n",
    "    if ret:\n",
    "        object_points.append(object_point)\n",
    "        \n",
    "        # The function iterates to find the sub-pixel accurate location of corners or radial saddle points,\n",
    "        cv2.cornerSubPix(gray, corners, (11, 11), (-1, -1), criteria)\n",
    "        image_points.append(corners)\n",
    "\n",
    "        # draw and display the corners\n",
    "        cv2.drawChessboardCorners(image, (9, 6), corners, ret)\n",
    "        cv2.imshow('image', image)\n",
    "        cv2.waitKey(500)\n"
   ]
  },
  {
   "cell_type": "code",
   "execution_count": 5,
   "metadata": {},
   "outputs": [
    {
     "name": "stdout",
     "output_type": "stream",
     "text": [
      "camera matrix:\n",
      " [[331.68302497   0.         161.90287859]\n",
      " [  0.         332.21335142 119.90777827]\n",
      " [  0.           0.           1.        ]]\n",
      "Ay: 332.2133514246026\n",
      "u0: 161.9028785882734\n",
      "v0: 119.90777826579144\n"
     ]
    }
   ],
   "source": [
    "# calibration\n",
    "retval, cameraMatrix, distCoeffs, rvecs, tvecs = cv2.calibrateCamera(\n",
    "    object_points, image_points, (w, h), None, None)\n",
    "\n",
    "print(\"camera matrix:\\n\", cameraMatrix)\n",
    "\n",
    "# pi camera intrinsic parameters\n",
    "ay = cameraMatrix[1, 1]\n",
    "u0 = cameraMatrix[0, 2]\n",
    "v0 = cameraMatrix[1, 2]\n",
    "print(\"Ay:\", ay)\n",
    "print(\"u0:\", u0)\n",
    "print(\"v0:\", v0)\n",
    "\n",
    "cv2.destroyAllWindows()\n"
   ]
  },
  {
   "cell_type": "code",
   "execution_count": 6,
   "metadata": {},
   "outputs": [
    {
     "data": {
      "text/plain": [
       "array([[ 67.31697845,   0.        , 265.72738406],\n",
       "       [  0.        ,  69.38655853,  32.44091271],\n",
       "       [  0.        ,   0.        ,   1.        ]])"
      ]
     },
     "execution_count": 6,
     "metadata": {},
     "output_type": "execute_result"
    }
   ],
   "source": [
    "img = cv2.imread('C:\\\\Users\\\\shankar\\\\Desktop\\\\Autonomous-RC-Car\\\\computer\\\\chess_board\\\\frame09.jpg')\n",
    "h,  w = img.shape[:2]\n",
    "newcameramtx, roi = cv2.getOptimalNewCameraMatrix(cameraMatrix, distCoeffs, (w,h), 1, (w,h))\n",
    "newcameramtx"
   ]
  },
  {
   "cell_type": "code",
   "execution_count": null,
   "metadata": {},
   "outputs": [],
   "source": []
  }
 ],
 "metadata": {
  "kernelspec": {
   "display_name": "Python 3.10.5 64-bit",
   "language": "python",
   "name": "python3"
  },
  "language_info": {
   "codemirror_mode": {
    "name": "ipython",
    "version": 3
   },
   "file_extension": ".py",
   "mimetype": "text/x-python",
   "name": "python",
   "nbconvert_exporter": "python",
   "pygments_lexer": "ipython3",
   "version": "3.10.5"
  },
  "orig_nbformat": 4,
  "vscode": {
   "interpreter": {
    "hash": "8e4bb477471b2dc09f9788fae4b3a04274fcf8aff3dddd911839e45cb91ce240"
   }
  }
 },
 "nbformat": 4,
 "nbformat_minor": 2
}
